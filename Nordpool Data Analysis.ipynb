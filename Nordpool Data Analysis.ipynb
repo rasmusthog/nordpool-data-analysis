{
 "cells": [
  {
   "cell_type": "markdown",
   "metadata": {},
   "source": [
    "# NordPool Data Analysis\n",
    "\n",
    "**Introduction**\n",
    "\n",
    "This is an analysis of hourly electricity spot price data in the Nordics (excl. Iceland) and the Baltics. The data is freely available on https://www.nordpoolgroup.com/historical-market-data/.\n",
    "\n",
    "NordPool was established in 1993 by the Norwegian TSO Statnett after the Norwegian parliament decided to deregulate the electricity market in 1991. This was the first deregulated market in the world, and NordPool expanded in 1996 to also cover the Swedish market. In 1998 Finland joined, and in 2000 Denmark also became part of the join electricity trade market. \n",
    "\n",
    "\n",
    "This analysis is created by Rasmus Vester Thøgersen and made available on GitHub through the MIT License. Link to the GitHub-repository: https://github.com/rasmusthog/nordpool-data-analysis"
   ]
  },
  {
   "cell_type": "markdown",
   "metadata": {},
   "source": [
    "# 1. Importing data and EDA"
   ]
  },
  {
   "cell_type": "markdown",
   "metadata": {},
   "source": [
    "Let's start importing the data and doing some exploratory data analysis (EDA). \n",
    "\n",
    "The data has been cleaned using a seperate script called \"import_data.py\", available at the GitHub repository. This imports the hourly elspot price files in .CSV-format (manually exported from .XLS due to some import errors), cleans the data and concatenates the files into a single .CSV-file containing data from 2014-2018."
   ]
  },
  {
   "cell_type": "code",
   "execution_count": 30,
   "metadata": {},
   "outputs": [
    {
     "name": "stdout",
     "output_type": "stream",
     "text": [
      "count    39839.000000\n",
      "mean        28.305711\n",
      "std          9.116175\n",
      "min          1.140000\n",
      "25%         23.710000\n",
      "50%         27.980000\n",
      "75%         32.230000\n",
      "max        199.970000\n",
      "Name: SYS, dtype: float64\n",
      "The highest spot price occured on:\n",
      "['2016-01-21T08:00:00.000000000']\n"
     ]
    },
    {
     "data": {
      "image/png": "[encoded data removed]",
      "text/plain": [
       "<Figure size 432x288 with 1 Axes>"
      ]
     },
     "metadata": {},
     "output_type": "display_data"
    }
   ],
   "source": [
    "# importing modules\n",
    "%matplotlib inline\n",
    "import pandas as pd\n",
    "import matplotlib.pyplot as plt\n",
    "\n",
    "# importing full dataset\n",
    "\n",
    "elspot_df = pd.read_csv(\"datasets/total-elspot-prices_2014-2018.csv\", delimiter=\",\", header=0, index_col=\"Date\", parse_dates=True)\n",
    "\n",
    "# Look at the description and visual plot of the system price.\n",
    "print(elspot_df[\"SYS\"].describe())\n",
    "elspot_df[\"SYS\"].plot()\n"
   ]
  },
  {
   "cell_type": "markdown",
   "metadata": {},
   "source": [
    "The graph shows two very large peaks, as well as one slightly smaller. Turns out that the two large peaks occured on 21st January 2016 (at 08:00 and 18:00) and 1st March 2018 (at 08:00). These peak correspond to about 7 times the mean elspot price. Not sure if these are valid data points or not, but I have contacted NordPool to ask them about this."
   ]
  },
  {
   "cell_type": "code",
   "execution_count": 34,
   "metadata": {},
   "outputs": [
    {
     "name": "stdout",
     "output_type": "stream",
     "text": [
      "['Bergen' 'DK1' 'DK2' 'EE' 'FI' 'Kristiansand' 'LT' 'LV' 'Molde' 'Oslo'\n",
      " 'SE1' 'SE2' 'SE3' 'SE4' 'SYS' 'Tromso' 'Trondheim']\n"
     ]
    },
    {
     "name": "stderr",
     "output_type": "stream",
     "text": [
      "UsageError: Line magic function `%s_mean_years` not found.\n"
     ]
    }
   ],
   "source": [
    "years = [\"2014\", \"2015\", \"2016\", \"2017\", \"2018\"]\n",
    "regions = elspot_df.columns.values\n",
    "print(regions)\n",
    "\n",
    "\n",
    "\n",
    "for region in regions:\n",
    "    \n",
    "    %s_mean_years = [] % region\n",
    "    for year in years:\n",
    "        %s_mean_years.append(elspot_df[\"SYS\"].loc[year].mean()) %s\n",
    "    \n",
    "print(DK1_mean_years)\n",
    "    "
   ]
  },
  {
   "cell_type": "code",
   "execution_count": null,
   "metadata": {},
   "outputs": [],
   "source": []
  }
 ],
 "metadata": {
  "kernelspec": {
   "display_name": "Python 3",
   "language": "python",
   "name": "python3"
  },
  "language_info": {
   "codemirror_mode": {
    "name": "ipython",
    "version": 3
   },
   "file_extension": ".py",
   "mimetype": "text/x-python",
   "name": "python",
   "nbconvert_exporter": "python",
   "pygments_lexer": "ipython3",
   "version": "3.6.5"
  }
 },
 "nbformat": 4,
 "nbformat_minor": 2
}
